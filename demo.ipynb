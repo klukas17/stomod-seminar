{
 "cells": [
  {
   "cell_type": "markdown",
   "source": [
    "# Simulacija redova i mreža redova\n",
    "### Mihael Miličević, kolegij Stohastičko modeliranje, ak. god. 2023./2024."
   ],
   "metadata": {
    "collapsed": false
   },
   "id": "be187c2af5434736"
  },
  {
   "cell_type": "code",
   "outputs": [],
   "source": [
    "import numpy as np\n",
    "import math\n",
    "from distribution_functions import exponential\n",
    "from queues import QueueNetwork"
   ],
   "metadata": {
    "collapsed": false,
    "ExecuteTime": {
     "end_time": "2024-01-05T22:38:17.510355941Z",
     "start_time": "2024-01-05T22:38:17.286656655Z"
    }
   },
   "id": "e3a17def0ef8a86d",
   "execution_count": 1
  },
  {
   "cell_type": "markdown",
   "source": [
    "## Kendallova notacija\n",
    "\n",
    "### $ A/B/s/m $\n",
    "\n",
    "$ A $ - proces koji generira zahtjeve\n",
    "$ B $ - proces koji obrađuje zahtjeve\n",
    "$ s $ - broj poslužitelja\n",
    "$ m $ - kapacitet spremnika"
   ],
   "metadata": {
    "collapsed": false
   },
   "id": "3f300c13c780d2eb"
  },
  {
   "cell_type": "markdown",
   "source": [
    "## $ M/M/\\infty $\n",
    "Sustav bez čekanja i gubitaka."
   ],
   "metadata": {
    "collapsed": false
   },
   "id": "aec424d0e3f2961a"
  },
  {
   "cell_type": "code",
   "outputs": [
    {
     "name": "stdout",
     "output_type": "stream",
     "text": [
      "Teoretski rezultat o stacionarnoj distribuciji broja poslova u sustavu: \n",
      "[0.6065306597126334, 0.3032653298563167, 0.07581633246407918, 0.012636055410679864, 0.001579506926334983, 0.0001579506926334983]\n",
      "Eksperimentalni rezultat o stacionarnoj distribuciji  broja poslova u sustavu: \n",
      "[0.6061875075074897, 0.3038266674558404, 0.07596868121181023, 0.012350183790952094, 0.001465282898886025, 0.00015648754652735193]\n",
      "\n",
      "Teoretski rezultat o očekivanom broju zauzetih procesora: \n",
      "0.5\n",
      "Eksperimentalni rezultat o očekivanom broju zauzetih procesora \n",
      "0.4996304312104788\n"
     ]
    }
   ],
   "source": [
    "queue_network = QueueNetwork()\n",
    "\n",
    "generator_scale = 2\n",
    "consumer_scale = 1\n",
    "\n",
    "queue = queue_network.create_queue(\n",
    "    generator_function=exponential(scale=generator_scale),\n",
    "    consumer_function=exponential(scale=consumer_scale),\n",
    "    number_of_processors=np.inf,\n",
    "    buffer_size=np.inf,\n",
    ")\n",
    "\n",
    "queue_network.set_transition(\n",
    "    queue=queue,\n",
    "    transition={\n",
    "        -1: 1,\n",
    "        0: 0\n",
    "    }\n",
    ")\n",
    "\n",
    "ro = consumer_scale / generator_scale\n",
    "\n",
    "end_time = 100000\n",
    "queue_network.simulate(end_time)\n",
    "\n",
    "pi = [np.power(ro, i) * np.exp(-ro) / math.factorial(i) for i in range(6)]\n",
    "_pi = [queue_network.logger.calculate_stationary_distribution(0, end_time, i) for i in range(6)]\n",
    "\n",
    "print(f'Teoretski rezultat o stacionarnoj distribuciji broja poslova u sustavu: \\n{pi}')\n",
    "print(f'Eksperimentalni rezultat o stacionarnoj distribuciji  broja poslova u sustavu: \\n{_pi}')\n",
    "print()\n",
    "\n",
    "average_number_of_busy_processors = queue_network.logger.calculate_average_number_of_busy_processors(0, end_time)\n",
    "print(f'Teoretski rezultat o očekivanom broju zauzetih procesora: \\n{ro}')\n",
    "print(f'Eksperimentalni rezultat o očekivanom broju zauzetih procesora \\n{average_number_of_busy_processors}')\n",
    "print()"
   ],
   "metadata": {
    "collapsed": false,
    "ExecuteTime": {
     "end_time": "2024-01-05T22:38:19.010357425Z",
     "start_time": "2024-01-05T22:38:17.509974485Z"
    }
   },
   "id": "5f6d6388cabfdbbc",
   "execution_count": 2
  },
  {
   "cell_type": "markdown",
   "source": [
    "## $ M/M/s/0 $\n",
    "Sustav s gubitcima"
   ],
   "metadata": {
    "collapsed": false
   },
   "id": "c656ec9864b218a8"
  },
  {
   "cell_type": "code",
   "outputs": [
    {
     "name": "stdout",
     "output_type": "stream",
     "text": [
      "Teoretski rezultat o stacionarnoj distribuciji  broja poslova u sustavu: \n",
      "[0.6075949367088608, 0.3037974683544304, 0.0759493670886076, 0.012658227848101266]\n",
      "Eksperimentalni rezultat o stacionarnoj distribuciji  broja poslova u sustavu: \n",
      "[0.6095763093071314, 0.3019147189387982, 0.07577455244033647, 0.012711796270290116]\n",
      "\n",
      "Teoretski rezultat o očekivanom broju zauzetih procesora: \n",
      "0.4936708860759494\n",
      "Eksperimentalni rezultat o očekivanom broju zauzetih procesora: \n",
      "0.4915992126303415\n",
      "\n",
      "Teoretski rezultat o vjerojatnosti gubitka posla: \n",
      "0.012658227848101266\n",
      "Eksperimentalni rezultat o vjerojatnosti gubitka posla: \n",
      "0.012712118486538346\n"
     ]
    }
   ],
   "source": [
    "queue_network = QueueNetwork()\n",
    "\n",
    "generator_scale = 2\n",
    "consumer_scale = 1\n",
    "s = 3\n",
    "\n",
    "queue = queue_network.create_queue(\n",
    "    generator_function=exponential(scale=generator_scale),\n",
    "    consumer_function=exponential(scale=consumer_scale),\n",
    "    number_of_processors=s,\n",
    "    buffer_size=0\n",
    ")\n",
    "\n",
    "queue_network.set_transition(\n",
    "    queue=queue,\n",
    "    transition={\n",
    "        -1: 1,\n",
    "        0: 0\n",
    "    }\n",
    ")\n",
    "\n",
    "end_time = 100000\n",
    "queue_network.simulate(end_time)\n",
    "\n",
    "pi_0 = [1 / sum([np.power(ro, i) / math.factorial(i) for i in range(s + 1)])]\n",
    "pi_i = [pi_0[0] * np.power(ro, i) / math.factorial(i) for i in range(1, s + 1)]\n",
    "pi = pi_0 + pi_i\n",
    "_pi = [queue_network.logger.calculate_stationary_distribution(0, end_time, i) for i in range(s + 1)]\n",
    "\n",
    "print(f'Teoretski rezultat o stacionarnoj distribuciji  broja poslova u sustavu: \\n{pi}')\n",
    "print(f'Eksperimentalni rezultat o stacionarnoj distribuciji  broja poslova u sustavu: \\n{_pi}')\n",
    "print()\n",
    "\n",
    "average_number_of_busy_processors = queue_network.logger.calculate_average_number_of_busy_processors(0, end_time)\n",
    "print(f'Teoretski rezultat o očekivanom broju zauzetih procesora: \\n{ro * (1 - pi[-1])}')\n",
    "print(f'Eksperimentalni rezultat o očekivanom broju zauzetih procesora: \\n{average_number_of_busy_processors}')\n",
    "print()\n",
    "\n",
    "probability_of_loosing_a_job = queue_network.logger.calculate_probability_of_loosing_a_job(0)\n",
    "print(f'Teoretski rezultat o vjerojatnosti gubitka posla: \\n{pi[-1]}')\n",
    "print(f'Eksperimentalni rezultat o vjerojatnosti gubitka posla: \\n{probability_of_loosing_a_job}')\n",
    "print()"
   ],
   "metadata": {
    "collapsed": false,
    "ExecuteTime": {
     "end_time": "2024-01-05T22:38:20.305336931Z",
     "start_time": "2024-01-05T22:38:19.047235242Z"
    }
   },
   "id": "b91072680d3075f4",
   "execution_count": 3
  },
  {
   "cell_type": "markdown",
   "source": [
    "## $ M/M/s/\\infty $\n",
    "Sustav s čekanjem"
   ],
   "metadata": {
    "collapsed": false
   },
   "id": "a183b15d5c29ed3a"
  },
  {
   "cell_type": "code",
   "outputs": [
    {
     "name": "stdout",
     "output_type": "stream",
     "text": [
      "Teoretski rezultat o stacionarnoj distribuciji  broja poslova u sustavu: \n",
      "[0.1111111111111111, 0.2222222222222222, 0.2222222222222222, 0.14814814814814814, 0.09876543209876543, 0.06584362139917695, 0.0438957475994513, 0.029263831732967534, 0.01950922115531169]\n",
      "Eksperimentalni rezultat o stacionarnoj distribuciji  broja poslova u sustavu: \n",
      "[0.11810303320831572, 0.2279053401509022, 0.22407691968739343, 0.14768752625087903, 0.09772622305077086, 0.06390430232584483, 0.04283989821943547, 0.029094541767613245, 0.01699603812649677]\n",
      "\n",
      "Teoretski rezultat o očekivanom broju zauzetih procesora: \n",
      "2.0\n",
      "Eksperimentalni rezultat o očekivanom broju zauzetih procesora: \n",
      "1.9657859951038221\n",
      "\n",
      "Teoretski rezultat o vjerojatnosti čekanja: \n",
      "0.4444444444444444\n",
      "Eksperimentalni rezultat o vjerojatnosti čekanja: \n",
      "0.4299089385260381\n",
      "\n",
      "Teoretski rezultat o očekivanom broju poslova u spremniku: \n",
      "0.8888888888888888\n",
      "Eksperimentalni rezultat o očekivanom broju poslova u spremniku: \n",
      "0.8051822100364406\n",
      "Teoretski rezultat o očekivanom trajanju čekanja u spremniku: \n",
      "1.7777777777777777\n",
      "Eksperimentalni rezultat o očekivanom trajanju čekanja u spremniku: \n",
      "1.6316410189601214\n"
     ]
    }
   ],
   "source": [
    "queue_network = QueueNetwork()\n",
    "\n",
    "generator_scale = 2\n",
    "consumer_scale = 4\n",
    "s = 3\n",
    "\n",
    "# ro < number_of_processors\n",
    "ro = consumer_scale / generator_scale\n",
    "\n",
    "queue = queue_network.create_queue(\n",
    "    generator_function=exponential(scale=generator_scale),\n",
    "    consumer_function=exponential(scale=consumer_scale),\n",
    "    number_of_processors=s,\n",
    "    buffer_size=np.inf\n",
    ")\n",
    "\n",
    "queue_network.set_transition(\n",
    "    queue=queue,\n",
    "    transition={\n",
    "        -1: 1,\n",
    "        0: 0\n",
    "    }\n",
    ")\n",
    "\n",
    "end_time = 100000\n",
    "queue_network.simulate(end_time)\n",
    "\n",
    "pi_0 = [1 / (sum([np.power(ro, i) / math.factorial(i) for i in range(s)]) + np.power(ro, s) / (math.factorial(s - 1) * (s - ro)))]\n",
    "pi_i1 = [pi_0[0] * np.power(ro, i) / math.factorial(i) for i in range(1, s)]\n",
    "pi_i2 = [pi_0[0] * np.power(ro, i) / (math.factorial(s) * np.power(s, i - s)) for i in range(s, 3 * s)]\n",
    "pi = pi_0 + pi_i1 + pi_i2\n",
    "_pi = [queue_network.logger.calculate_stationary_distribution(0, end_time, i) for i in range(3 * s)]\n",
    "\n",
    "print(f'Teoretski rezultat o stacionarnoj distribuciji  broja poslova u sustavu: \\n{pi}')\n",
    "print(f'Eksperimentalni rezultat o stacionarnoj distribuciji  broja poslova u sustavu: \\n{_pi}')\n",
    "print()\n",
    "\n",
    "average_number_of_busy_processors = queue_network.logger.calculate_average_number_of_busy_processors(0, end_time)\n",
    "print(f'Teoretski rezultat o očekivanom broju zauzetih procesora: \\n{ro}')\n",
    "print(f'Eksperimentalni rezultat o očekivanom broju zauzetih procesora: \\n{average_number_of_busy_processors}')\n",
    "print()\n",
    "\n",
    "probability_of_a_job_waiting = queue_network.logger.calculate_probability_of_a_job_waiting(0, end_time, s)\n",
    "print(f'Teoretski rezultat o vjerojatnosti čekanja: \\n{s / (s - ro) * pi[s]}')\n",
    "print(f'Eksperimentalni rezultat o vjerojatnosti čekanja: \\n{probability_of_a_job_waiting}')\n",
    "print()\n",
    "\n",
    "expected_number_of_jobs_in_buffer = queue_network.logger.calculate_expected_number_of_jobs_in_buffer(0, end_time)\n",
    "print(f'Teoretski rezultat o očekivanom broju poslova u spremniku: \\n{ro * s / np.power(s - ro, 2) * pi[s]}')\n",
    "print(f'Eksperimentalni rezultat o očekivanom broju poslova u spremniku: \\n{expected_number_of_jobs_in_buffer}')\n",
    "print()\n",
    "\n",
    "expected_waiting_time_in_buffer = queue_network.logger.calculate_expected_waiting_time_in_buffer(0)\n",
    "print(f'Teoretski rezultat o očekivanom trajanju čekanja u spremniku: \\n{s * consumer_scale / np.power(s - ro, 2) * pi[s]}')\n",
    "print(f'Eksperimentalni rezultat o očekivanom trajanju čekanja u spremniku: \\n{expected_waiting_time_in_buffer}')\n",
    "print()"
   ],
   "metadata": {
    "collapsed": false,
    "ExecuteTime": {
     "end_time": "2024-01-05T22:38:22.980542059Z",
     "start_time": "2024-01-05T22:38:20.311620868Z"
    }
   },
   "id": "b9019d09d31e5d6f",
   "execution_count": 4
  },
  {
   "cell_type": "markdown",
   "source": [
    "## $ M/M/s/m $\n",
    "Sustav s čekanjem i gubitcima"
   ],
   "metadata": {
    "collapsed": false
   },
   "id": "b8a9b518aed158eb"
  },
  {
   "cell_type": "code",
   "outputs": [
    {
     "name": "stdout",
     "output_type": "stream",
     "text": [
      "Teoretski rezultat o stacionarnoj distribuciji broja poslova u sustavu: \n",
      "[0.11562252180808881, 0.23124504361617762, 0.23124504361617762, 0.15416336241078507, 0.10277557494052339, 0.06851704996034892, 0.045678033306899284, 0.030452022204599524, 0.02030134813639968]\n",
      "Eksperimentalni rezultat o stacionarnoj distribuciji broja poslova u sustavu: \n",
      "[0.11416361980322218, 0.23141991463277817, 0.2331593315318793, 0.1535564047259591, 0.1027664881559158, 0.06870195325674047, 0.045501276267841874, 0.030515263963147556, 0.0202084617711283]\n",
      "\n",
      "Teoretski rezultat o očekivanom broju zauzetih procesora: \n",
      "1.9593973037272006\n",
      "Eksperimentalni rezultat o očekivanom broju zauzetih procesora: \n",
      "1.9614881221187321\n",
      "\n",
      "Teoretski rezultat o vjerojatnosti gubitka posla: \n",
      "0.02030134813639968\n",
      "Eksperimentalni rezultat o vjerojatnosti gubitka posla: \n",
      "0.020150831969993215\n"
     ]
    }
   ],
   "source": [
    "queue_network = QueueNetwork()\n",
    "\n",
    "generator_scale = 2\n",
    "consumer_scale = 4\n",
    "s = 3\n",
    "m = 5\n",
    "\n",
    "ro = consumer_scale / generator_scale\n",
    "\n",
    "queue = queue_network.create_queue(\n",
    "    generator_function=exponential(scale=generator_scale),\n",
    "    consumer_function=exponential(scale=consumer_scale),\n",
    "    number_of_processors=s,\n",
    "    buffer_size=m\n",
    ")\n",
    "\n",
    "queue_network.set_transition(\n",
    "    queue=queue,\n",
    "    transition={\n",
    "        -1: 1,\n",
    "        0: 0\n",
    "    }\n",
    ")\n",
    "\n",
    "end_time = 100000\n",
    "queue_network.simulate(end_time)\n",
    "\n",
    "pi_0 = [1 / (sum([np.power(ro, i) / math.factorial(i) for i in range(s)]) + sum([np.power(ro, i) / (math.factorial(s) * np.power(s, i - s)) for i in range(s, s + m + 1)]))]\n",
    "pi_i1 = [pi_0[0] * np.power(ro, i) / math.factorial(i) for i in range(1, s)]\n",
    "pi_i2 = [pi_0[0] * np.power(ro, i) / (math.factorial(s) * np.power(s, i - s)) for i in range(s, s + m + 1)]\n",
    "pi = pi_0 + pi_i1 + pi_i2\n",
    "_pi = [queue_network.logger.calculate_stationary_distribution(0, end_time, i) for i in range(s + m + 1)]\n",
    "\n",
    "print(f'Teoretski rezultat o stacionarnoj distribuciji broja poslova u sustavu: \\n{pi}')\n",
    "print(f'Eksperimentalni rezultat o stacionarnoj distribuciji broja poslova u sustavu: \\n{_pi}')\n",
    "print()\n",
    "\n",
    "average_number_of_busy_processors = queue_network.logger.calculate_average_number_of_busy_processors(0, end_time)\n",
    "print(f'Teoretski rezultat o očekivanom broju zauzetih procesora: \\n{ro * (1 - pi[-1])}')\n",
    "print(f'Eksperimentalni rezultat o očekivanom broju zauzetih procesora: \\n{average_number_of_busy_processors}')\n",
    "print()\n",
    "\n",
    "probability_of_loosing_a_job = queue_network.logger.calculate_probability_of_loosing_a_job(0)\n",
    "print(f'Teoretski rezultat o vjerojatnosti gubitka posla: \\n{pi[-1]}')\n",
    "print(f'Eksperimentalni rezultat o vjerojatnosti gubitka posla: \\n{probability_of_loosing_a_job}')\n",
    "print()"
   ],
   "metadata": {
    "collapsed": false,
    "ExecuteTime": {
     "end_time": "2024-01-05T22:38:24.633605838Z",
     "start_time": "2024-01-05T22:38:23.044587339Z"
    }
   },
   "id": "8a3ad782447999fd",
   "execution_count": 5
  },
  {
   "cell_type": "markdown",
   "source": [
    "## Mreže redova"
   ],
   "metadata": {
    "collapsed": false
   },
   "id": "eaaec1bbf57bdbfe"
  },
  {
   "cell_type": "code",
   "outputs": [],
   "source": [
    "# todo"
   ],
   "metadata": {
    "collapsed": false,
    "ExecuteTime": {
     "end_time": "2024-01-05T22:38:24.637433992Z",
     "start_time": "2024-01-05T22:38:24.634537831Z"
    }
   },
   "id": "14b07fbde87e464f",
   "execution_count": 6
  }
 ],
 "metadata": {
  "kernelspec": {
   "display_name": "Python 3",
   "language": "python",
   "name": "python3"
  },
  "language_info": {
   "codemirror_mode": {
    "name": "ipython",
    "version": 2
   },
   "file_extension": ".py",
   "mimetype": "text/x-python",
   "name": "python",
   "nbconvert_exporter": "python",
   "pygments_lexer": "ipython2",
   "version": "2.7.6"
  }
 },
 "nbformat": 4,
 "nbformat_minor": 5
}
