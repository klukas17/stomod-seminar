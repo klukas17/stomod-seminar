{
 "cells": [
  {
   "cell_type": "markdown",
   "source": [
    "# Simulacija redova i mreža redova\n",
    "### Mihael Miličević, kolegij Stohastičko modeliranje, ak. god. 2023./2024."
   ],
   "metadata": {
    "collapsed": false
   },
   "id": "be187c2af5434736"
  },
  {
   "cell_type": "code",
   "outputs": [],
   "source": [
    "import numpy as np\n",
    "import math\n",
    "from distribution_functions import exponential, lognormal\n",
    "from queues import QueueNetwork"
   ],
   "metadata": {
    "collapsed": false,
    "ExecuteTime": {
     "end_time": "2024-01-06T17:26:29.569945437Z",
     "start_time": "2024-01-06T17:26:29.450782017Z"
    }
   },
   "id": "e3a17def0ef8a86d",
   "execution_count": 1
  },
  {
   "cell_type": "markdown",
   "source": [
    "## Kendallova notacija\n",
    "\n",
    "### $ A/B/s/m $\n",
    "\n",
    "$ A $ - proces koji generira zahtjeve\n",
    "$ B $ - proces koji obrađuje zahtjeve\n",
    "$ s $ - broj poslužitelja\n",
    "$ m $ - kapacitet spremnika"
   ],
   "metadata": {
    "collapsed": false
   },
   "id": "3f300c13c780d2eb"
  },
  {
   "cell_type": "markdown",
   "source": [
    "## $ M/M/\\infty $\n",
    "Sustav bez čekanja i gubitaka."
   ],
   "metadata": {
    "collapsed": false
   },
   "id": "aec424d0e3f2961a"
  },
  {
   "cell_type": "code",
   "outputs": [
    {
     "name": "stdout",
     "output_type": "stream",
     "text": [
      "Teoretski rezultat o stacionarnoj distribuciji broja poslova u sustavu: \n",
      "[0.6065306597126334, 0.3032653298563167, 0.07581633246407918, 0.012636055410679864, 0.001579506926334983, 0.0001579506926334983]\n",
      "Eksperimentalni rezultat o stacionarnoj distribuciji  broja poslova u sustavu: \n",
      "[0.6055854545230571, 0.3026170592600327, 0.07708225223472455, 0.012937262947482053, 0.001606610448656382, 0.00015430491923155046]\n",
      "\n",
      "Teoretski rezultat o očekivanom broju zauzetih procesora: \n",
      "0.5\n",
      "Eksperimentalni rezultat o očekivanom broju zauzetih procesora \n",
      "0.5028775429503265\n"
     ]
    }
   ],
   "source": [
    "queue_network = QueueNetwork()\n",
    "\n",
    "generator_scale = 2\n",
    "consumer_scale = 1\n",
    "\n",
    "queue = queue_network.create_queue(\n",
    "    generator_function=exponential(scale=generator_scale),\n",
    "    consumer_function=exponential(scale=consumer_scale),\n",
    "    number_of_processors=np.inf,\n",
    "    buffer_size=np.inf,\n",
    ")\n",
    "\n",
    "queue_network.set_transition(\n",
    "    queue=queue,\n",
    "    transition={\n",
    "        -1: 1,\n",
    "        0: 0\n",
    "    }\n",
    ")\n",
    "\n",
    "ro = consumer_scale / generator_scale\n",
    "\n",
    "end_time = 100000\n",
    "queue_network.simulate(end_time)\n",
    "\n",
    "pi = [np.power(ro, i) * np.exp(-ro) / math.factorial(i) for i in range(6)]\n",
    "_pi = [queue_network.logger.calculate_stationary_distribution(0, end_time, i) for i in range(6)]\n",
    "\n",
    "print(f'Teoretski rezultat o stacionarnoj distribuciji broja poslova u sustavu: \\n{pi}')\n",
    "print(f'Eksperimentalni rezultat o stacionarnoj distribuciji  broja poslova u sustavu: \\n{_pi}')\n",
    "print()\n",
    "\n",
    "average_number_of_busy_processors = queue_network.logger.calculate_average_number_of_busy_processors(0, end_time)\n",
    "print(f'Teoretski rezultat o očekivanom broju zauzetih procesora: \\n{ro}')\n",
    "print(f'Eksperimentalni rezultat o očekivanom broju zauzetih procesora \\n{average_number_of_busy_processors}')\n",
    "print()"
   ],
   "metadata": {
    "collapsed": false,
    "ExecuteTime": {
     "end_time": "2024-01-06T17:26:31.834779051Z",
     "start_time": "2024-01-06T17:26:29.590537438Z"
    }
   },
   "id": "5f6d6388cabfdbbc",
   "execution_count": 2
  },
  {
   "cell_type": "markdown",
   "source": [
    "## $ M/M/s/0 $\n",
    "Sustav s gubitcima"
   ],
   "metadata": {
    "collapsed": false
   },
   "id": "c656ec9864b218a8"
  },
  {
   "cell_type": "code",
   "outputs": [
    {
     "name": "stdout",
     "output_type": "stream",
     "text": [
      "Teoretski rezultat o stacionarnoj distribuciji broja poslova u sustavu: \n",
      "[0.6075949367088608, 0.3037974683544304, 0.0759493670886076, 0.012658227848101266]\n",
      "Eksperimentalni rezultat o stacionarnoj distribuciji broja poslova u sustavu: \n",
      "[0.6026426884968648, 0.30719905286597526, 0.07730186360950335, 0.012855578959473046]\n",
      "\n",
      "Teoretski rezultat o očekivanom broju zauzetih procesora: \n",
      "0.4936708860759494\n",
      "Eksperimentalni rezultat o očekivanom broju zauzetih procesora: \n",
      "0.5003695169634012\n",
      "\n",
      "Teoretski rezultat o vjerojatnosti gubitka posla: \n",
      "0.012658227848101266\n",
      "Eksperimentalni rezultat o vjerojatnosti gubitka posla: \n",
      "0.012622441666003027\n"
     ]
    }
   ],
   "source": [
    "queue_network = QueueNetwork()\n",
    "\n",
    "generator_scale = 2\n",
    "consumer_scale = 1\n",
    "s = 3\n",
    "\n",
    "queue = queue_network.create_queue(\n",
    "    generator_function=exponential(scale=generator_scale),\n",
    "    consumer_function=exponential(scale=consumer_scale),\n",
    "    number_of_processors=s,\n",
    "    buffer_size=0\n",
    ")\n",
    "\n",
    "queue_network.set_transition(\n",
    "    queue=queue,\n",
    "    transition={\n",
    "        -1: 1,\n",
    "        0: 0\n",
    "    }\n",
    ")\n",
    "\n",
    "end_time = 100000\n",
    "queue_network.simulate(end_time)\n",
    "\n",
    "pi_0 = [1 / sum([np.power(ro, i) / math.factorial(i) for i in range(s + 1)])]\n",
    "pi_i = [pi_0[0] * np.power(ro, i) / math.factorial(i) for i in range(1, s + 1)]\n",
    "pi = pi_0 + pi_i\n",
    "_pi = [queue_network.logger.calculate_stationary_distribution(0, end_time, i) for i in range(s + 1)]\n",
    "\n",
    "print(f'Teoretski rezultat o stacionarnoj distribuciji broja poslova u sustavu: \\n{pi}')\n",
    "print(f'Eksperimentalni rezultat o stacionarnoj distribuciji broja poslova u sustavu: \\n{_pi}')\n",
    "print()\n",
    "\n",
    "average_number_of_busy_processors = queue_network.logger.calculate_average_number_of_busy_processors(0, end_time)\n",
    "print(f'Teoretski rezultat o očekivanom broju zauzetih procesora: \\n{ro * (1 - pi[-1])}')\n",
    "print(f'Eksperimentalni rezultat o očekivanom broju zauzetih procesora: \\n{average_number_of_busy_processors}')\n",
    "print()\n",
    "\n",
    "probability_of_loosing_a_job = queue_network.logger.calculate_probability_of_loosing_a_job(0)\n",
    "print(f'Teoretski rezultat o vjerojatnosti gubitka posla: \\n{pi[-1]}')\n",
    "print(f'Eksperimentalni rezultat o vjerojatnosti gubitka posla: \\n{probability_of_loosing_a_job}')\n",
    "print()"
   ],
   "metadata": {
    "collapsed": false,
    "ExecuteTime": {
     "end_time": "2024-01-06T17:26:33.810048613Z",
     "start_time": "2024-01-06T17:26:31.862778815Z"
    }
   },
   "id": "b91072680d3075f4",
   "execution_count": 3
  },
  {
   "cell_type": "markdown",
   "source": [
    "## $ M/M/s/\\infty $\n",
    "Sustav s čekanjem"
   ],
   "metadata": {
    "collapsed": false
   },
   "id": "a183b15d5c29ed3a"
  },
  {
   "cell_type": "code",
   "outputs": [
    {
     "name": "stdout",
     "output_type": "stream",
     "text": [
      "Teoretski rezultat o stacionarnoj distribuciji  broja poslova u sustavu: \n",
      "[0.1111111111111111, 0.2222222222222222, 0.2222222222222222, 0.14814814814814814, 0.09876543209876543, 0.06584362139917695, 0.0438957475994513, 0.029263831732967534, 0.01950922115531169]\n",
      "Eksperimentalni rezultat o stacionarnoj distribuciji  broja poslova u sustavu: \n",
      "[0.1112891892128209, 0.22299299817791718, 0.22175187472982943, 0.14693965480307836, 0.0998367901054025, 0.06694759722402509, 0.042575405058393134, 0.027880335422716427, 0.01950880864877568]\n",
      "\n",
      "Teoretski rezultat o očekivanom broju zauzetih procesora: \n",
      "2.0\n",
      "Eksperimentalni rezultat o očekivanom broju zauzetih procesora: \n",
      "1.9983672976571476\n",
      "\n",
      "Teoretski rezultat o vjerojatnosti čekanja: \n",
      "0.4444444444444444\n",
      "Eksperimentalni rezultat o vjerojatnosti čekanja: \n",
      "0.44395685000652485\n",
      "\n",
      "Teoretski rezultat o očekivanom broju poslova u spremniku: \n",
      "0.8888888888888888\n",
      "Eksperimentalni rezultat o očekivanom broju poslova u spremniku: \n",
      "0.8942099638095604\n",
      "Teoretski rezultat o očekivanom trajanju čekanja u spremniku: \n",
      "1.7777777777777777\n",
      "Eksperimentalni rezultat o očekivanom trajanju čekanja u spremniku: \n",
      "1.7855273732744164\n"
     ]
    }
   ],
   "source": [
    "queue_network = QueueNetwork()\n",
    "\n",
    "generator_scale = 2\n",
    "consumer_scale = 4\n",
    "s = 3\n",
    "\n",
    "# ro < number_of_processors\n",
    "ro = consumer_scale / generator_scale\n",
    "\n",
    "queue = queue_network.create_queue(\n",
    "    generator_function=exponential(scale=generator_scale),\n",
    "    consumer_function=exponential(scale=consumer_scale),\n",
    "    number_of_processors=s,\n",
    "    buffer_size=np.inf\n",
    ")\n",
    "\n",
    "queue_network.set_transition(\n",
    "    queue=queue,\n",
    "    transition={\n",
    "        -1: 1,\n",
    "        0: 0\n",
    "    }\n",
    ")\n",
    "\n",
    "end_time = 100000\n",
    "queue_network.simulate(end_time)\n",
    "\n",
    "pi_0 = [1 / (sum([np.power(ro, i) / math.factorial(i) for i in range(s)]) + np.power(ro, s) / (math.factorial(s - 1) * (s - ro)))]\n",
    "pi_i1 = [pi_0[0] * np.power(ro, i) / math.factorial(i) for i in range(1, s)]\n",
    "pi_i2 = [pi_0[0] * np.power(ro, i) / (math.factorial(s) * np.power(s, i - s)) for i in range(s, 3 * s)]\n",
    "pi = pi_0 + pi_i1 + pi_i2\n",
    "_pi = [queue_network.logger.calculate_stationary_distribution(0, end_time, i) for i in range(3 * s)]\n",
    "\n",
    "print(f'Teoretski rezultat o stacionarnoj distribuciji  broja poslova u sustavu: \\n{pi}')\n",
    "print(f'Eksperimentalni rezultat o stacionarnoj distribuciji  broja poslova u sustavu: \\n{_pi}')\n",
    "print()\n",
    "\n",
    "average_number_of_busy_processors = queue_network.logger.calculate_average_number_of_busy_processors(0, end_time)\n",
    "print(f'Teoretski rezultat o očekivanom broju zauzetih procesora: \\n{ro}')\n",
    "print(f'Eksperimentalni rezultat o očekivanom broju zauzetih procesora: \\n{average_number_of_busy_processors}')\n",
    "print()\n",
    "\n",
    "probability_of_a_job_waiting = queue_network.logger.calculate_probability_of_a_job_waiting(0, end_time, s)\n",
    "print(f'Teoretski rezultat o vjerojatnosti čekanja: \\n{s / (s - ro) * pi[s]}')\n",
    "print(f'Eksperimentalni rezultat o vjerojatnosti čekanja: \\n{probability_of_a_job_waiting}')\n",
    "print()\n",
    "\n",
    "expected_number_of_jobs_in_buffer = queue_network.logger.calculate_expected_number_of_jobs_in_buffer(0, end_time)\n",
    "print(f'Teoretski rezultat o očekivanom broju poslova u spremniku: \\n{ro * s / np.power(s - ro, 2) * pi[s]}')\n",
    "print(f'Eksperimentalni rezultat o očekivanom broju poslova u spremniku: \\n{expected_number_of_jobs_in_buffer}')\n",
    "print()\n",
    "\n",
    "expected_waiting_time_in_buffer = queue_network.logger.calculate_expected_waiting_time_in_buffer(0)\n",
    "print(f'Teoretski rezultat o očekivanom trajanju čekanja u spremniku: \\n{s * consumer_scale / np.power(s - ro, 2) * pi[s]}')\n",
    "print(f'Eksperimentalni rezultat o očekivanom trajanju čekanja u spremniku: \\n{expected_waiting_time_in_buffer}')\n",
    "print()"
   ],
   "metadata": {
    "collapsed": false,
    "ExecuteTime": {
     "end_time": "2024-01-06T17:26:36.815879759Z",
     "start_time": "2024-01-06T17:26:33.812161368Z"
    }
   },
   "id": "b9019d09d31e5d6f",
   "execution_count": 4
  },
  {
   "cell_type": "markdown",
   "source": [
    "## $ M/M/s/m $\n",
    "Sustav s čekanjem i gubitcima"
   ],
   "metadata": {
    "collapsed": false
   },
   "id": "b8a9b518aed158eb"
  },
  {
   "cell_type": "code",
   "outputs": [
    {
     "name": "stdout",
     "output_type": "stream",
     "text": [
      "Teoretski rezultat o stacionarnoj distribuciji broja poslova u sustavu: \n",
      "[0.11562252180808881, 0.23124504361617762, 0.23124504361617762, 0.15416336241078507, 0.10277557494052339, 0.06851704996034892, 0.045678033306899284, 0.030452022204599524, 0.02030134813639968]\n",
      "Eksperimentalni rezultat o stacionarnoj distribuciji broja poslova u sustavu: \n",
      "[0.11321756217787897, 0.2286165461379767, 0.23187068236752043, 0.15547419442530327, 0.10351104309546622, 0.06922986003105823, 0.04721938271193136, 0.030025206076801706, 0.020833564390793948]\n",
      "\n",
      "Teoretski rezultat o očekivanom broju zauzetih procesora: \n",
      "1.9593973037272006\n",
      "Eksperimentalni rezultat o očekivanom broju zauzetih procesora: \n",
      "1.9712376630670738\n",
      "\n",
      "Teoretski rezultat o vjerojatnosti gubitka posla: \n",
      "0.02030134813639968\n",
      "Eksperimentalni rezultat o vjerojatnosti gubitka posla: \n",
      "0.021150929842764787\n"
     ]
    }
   ],
   "source": [
    "queue_network = QueueNetwork()\n",
    "\n",
    "generator_scale = 2\n",
    "consumer_scale = 4\n",
    "s = 3\n",
    "m = 5\n",
    "\n",
    "ro = consumer_scale / generator_scale\n",
    "\n",
    "queue = queue_network.create_queue(\n",
    "    generator_function=exponential(scale=generator_scale),\n",
    "    consumer_function=exponential(scale=consumer_scale),\n",
    "    number_of_processors=s,\n",
    "    buffer_size=m\n",
    ")\n",
    "\n",
    "queue_network.set_transition(\n",
    "    queue=queue,\n",
    "    transition={\n",
    "        -1: 1,\n",
    "        0: 0\n",
    "    }\n",
    ")\n",
    "\n",
    "end_time = 100000\n",
    "queue_network.simulate(end_time)\n",
    "\n",
    "pi_0 = [1 / (sum([np.power(ro, i) / math.factorial(i) for i in range(s)]) + sum([np.power(ro, i) / (math.factorial(s) * np.power(s, i - s)) for i in range(s, s + m + 1)]))]\n",
    "pi_i1 = [pi_0[0] * np.power(ro, i) / math.factorial(i) for i in range(1, s)]\n",
    "pi_i2 = [pi_0[0] * np.power(ro, i) / (math.factorial(s) * np.power(s, i - s)) for i in range(s, s + m + 1)]\n",
    "pi = pi_0 + pi_i1 + pi_i2\n",
    "_pi = [queue_network.logger.calculate_stationary_distribution(0, end_time, i) for i in range(s + m + 1)]\n",
    "\n",
    "print(f'Teoretski rezultat o stacionarnoj distribuciji broja poslova u sustavu: \\n{pi}')\n",
    "print(f'Eksperimentalni rezultat o stacionarnoj distribuciji broja poslova u sustavu: \\n{_pi}')\n",
    "print()\n",
    "\n",
    "average_number_of_busy_processors = queue_network.logger.calculate_average_number_of_busy_processors(0, end_time)\n",
    "print(f'Teoretski rezultat o očekivanom broju zauzetih procesora: \\n{ro * (1 - pi[-1])}')\n",
    "print(f'Eksperimentalni rezultat o očekivanom broju zauzetih procesora: \\n{average_number_of_busy_processors}')\n",
    "print()\n",
    "\n",
    "probability_of_loosing_a_job = queue_network.logger.calculate_probability_of_loosing_a_job(0)\n",
    "print(f'Teoretski rezultat o vjerojatnosti gubitka posla: \\n{pi[-1]}')\n",
    "print(f'Eksperimentalni rezultat o vjerojatnosti gubitka posla: \\n{probability_of_loosing_a_job}')\n",
    "print()"
   ],
   "metadata": {
    "collapsed": false,
    "ExecuteTime": {
     "end_time": "2024-01-06T17:26:39.555259987Z",
     "start_time": "2024-01-06T17:26:36.849454813Z"
    }
   },
   "id": "8a3ad782447999fd",
   "execution_count": 5
  },
  {
   "cell_type": "markdown",
   "source": [
    "## Mreže redova"
   ],
   "metadata": {
    "collapsed": false
   },
   "id": "eaaec1bbf57bdbfe"
  },
  {
   "cell_type": "markdown",
   "source": [
    "### Primjer 1: Proizvodna linija"
   ],
   "metadata": {
    "collapsed": false
   },
   "id": "ca31535d33c1612d"
  },
  {
   "cell_type": "markdown",
   "source": [
    "![](qn1.png)"
   ],
   "metadata": {
    "collapsed": false
   },
   "id": "7918e7add8e22ae4"
  },
  {
   "cell_type": "code",
   "outputs": [
    {
     "name": "stdout",
     "output_type": "stream",
     "text": [
      "Stacionarna distribucija za Q1: \n",
      "[0.03948735770805682, 0.05780829253866872, 0.07443593247179442, 0.10282658342303072, 0.14798466621624856, 0.2149467282886909, 0.36246721895953393]\n",
      "Stacionarna distribucija za Q2: \n",
      "[0.381334733685152, 0.21858910398852327, 0.14985815933288898, 0.10674203758318741, 0.07084379355236706, 0.044750932538531026, 0.027795364669844502]\n",
      "Stacionarna distribucija za Q3: \n",
      "[0.792749573277724, 0.16138497922253678, 0.03647280199467507, 0.00761044405789748, 0.0014626219508163056, 0.00022189086750964691, 4.0211557268630714e-05]\n",
      "Stacionarna distribucija za cijelu mrežu: \n",
      "[0.0040774399661311035, 0.013957143314325201, 0.02382377738398646, 0.04088419654216535, 0.0704495253644978, 0.12657015948404157, 0.36701014338769367, 0.16118095837797614, 0.09275636842862597, 0.05285933501639121, 0.02822424191549225, 0.013896068183322145, 0.004174689054158468, 8.020556585785016e-05, 1.2527621358822216e-05, 0.0, 0.0, 0.0, 0.0]\n",
      "Vjerojatnost gubitka posla: \n",
      "0.3764475861031734\n"
     ]
    }
   ],
   "source": [
    "queue_network = QueueNetwork()\n",
    "\n",
    "queue1 = queue_network.create_queue(\n",
    "    generator_function=exponential(scale=3),\n",
    "    consumer_function=lognormal(mean=1, sigma=1),\n",
    "    number_of_processors=1,\n",
    "    buffer_size=5\n",
    ")\n",
    "\n",
    "queue2 = queue_network.create_queue(\n",
    "    generator_function=None,\n",
    "    consumer_function=exponential(scale=3),\n",
    "    number_of_processors=1,\n",
    "    buffer_size=5\n",
    ")\n",
    "\n",
    "queue3 = queue_network.create_queue(\n",
    "    generator_function=None,\n",
    "    consumer_function=exponential(scale=1),\n",
    "    number_of_processors=1,\n",
    "    buffer_size=5\n",
    ")\n",
    "\n",
    "queue_network.set_transition(\n",
    "    queue=queue1,\n",
    "    transition={\n",
    "        -1: 0,\n",
    "        0: 0,\n",
    "        1: 1,\n",
    "        2: 0\n",
    "    }\n",
    ")\n",
    "\n",
    "queue_network.set_transition(\n",
    "    queue=queue2,\n",
    "    transition={\n",
    "        -1: 0,\n",
    "        0: 0,\n",
    "        1: 0,\n",
    "        2: 1\n",
    "    }\n",
    ")\n",
    "\n",
    "queue_network.set_transition(\n",
    "    queue=queue3,\n",
    "    transition={\n",
    "        -1: 1,\n",
    "        0: 0,\n",
    "        1: 0,\n",
    "        2: 0\n",
    "    }\n",
    ")\n",
    "\n",
    "end_time = 100000\n",
    "queue_network.simulate(end_time)\n",
    "\n",
    "print(f'Stacionarna distribucija za Q1: \\n{[queue_network.logger.calculate_stationary_distribution(0, end_time, i) for i in range(7)]}')\n",
    "print(f'Stacionarna distribucija za Q2: \\n{[queue_network.logger.calculate_stationary_distribution(1, end_time, i) for i in range(7)]}')\n",
    "print(f'Stacionarna distribucija za Q3: \\n{[queue_network.logger.calculate_stationary_distribution(2, end_time, i) for i in range(7)]}')\n",
    "print(f'Stacionarna distribucija za cijelu mrežu: \\n{[queue_network.logger.calculate_stationary_distribution_global(end_time, i) for i in range(19)]}')\n",
    "\n",
    "print(f'Vjerojatnost gubitka posla: \\n{queue_network.logger.calculate_probability_of_loosing_a_job_global()}')\n"
   ],
   "metadata": {
    "collapsed": false,
    "ExecuteTime": {
     "end_time": "2024-01-06T17:26:43.841038674Z",
     "start_time": "2024-01-06T17:26:39.588507200Z"
    }
   },
   "id": "14b07fbde87e464f",
   "execution_count": 6
  },
  {
   "cell_type": "markdown",
   "source": [
    "## Mreže redova"
   ],
   "metadata": {
    "collapsed": false
   },
   "id": "9b735fa44a0e2e79"
  },
  {
   "cell_type": "markdown",
   "source": [
    "### Primjer 2: Složeniji primjer"
   ],
   "metadata": {
    "collapsed": false
   },
   "id": "533d3d9fa8c9eee0"
  },
  {
   "cell_type": "markdown",
   "source": [
    "![](qn2.png)"
   ],
   "metadata": {
    "collapsed": false
   },
   "id": "6c72e8e49e8c5345"
  },
  {
   "cell_type": "code",
   "outputs": [
    {
     "name": "stdout",
     "output_type": "stream",
     "text": [
      "Stacionarna distribucija za Q1: \n",
      "[0.3634427550415731, 0.3633413370599592, 0.1821643969868358, 0.060419253495080365, 0.020527859974539077, 0.006935422214438916, 0.0021078773218228654, 0.0007935923298548192, 0.0002667971869710834]\n",
      "Stacionarna distribucija za Q2: \n",
      "[0.3629735652228706, 0.36379183946682414, 0.18356667095777485, 0.06073356099670275, 0.020178467069513047, 0.006110773704578181, 0.0018342430922164497, 0.0005980337373460498, 0.00020465741060611038]\n",
      "Stacionarna distribucija za Q3: \n",
      "[0.5333001966895957, 0.32534351356741914, 0.09860449854226414, 0.030493178073016356, 0.00938489644059057, 0.0028710093825354203]\n",
      "Stacionarna distribucija za Q4: \n",
      "[0.3776967384201669, 0.34628323425003377, 0.15740072196171656, 0.07151755103996271, 0.03261599639038669, 0.014482670407535852]\n",
      "Stacionarna distribucija za Q5: \n",
      "[0.07310774557334901, 0.18964351993089817, 0.24537351824812456, 0.21149661782679952, 0.13525766434643513, 0.07007900060500243, 0.03649224441877264, 0.01917927533977697, 0.009608037381575231, 0.005066484712801268, 0.0026755887535168453, 0.0012555332223249092, 0.0005592753616156847, 0.0002032643649298575]\n",
      "Stacionarna distribucija za Q6: \n",
      "[0.012126315793868069, 0.05345780377244058, 0.10871037628501337, 0.14798681930681923, 0.15181294990876396, 0.12192707971356445, 0.09748815501594864, 0.07791801971976012, 0.06294258635179788, 0.049559637493216166, 0.03997677083638402, 0.03201973411785795, 0.025069219880821565, 0.019004143836376684]\n",
      "Stacionarna distribucija za Q7: \n",
      "[0.5264217091866493, 0.2681909098738587, 0.13599965823985682, 0.0693873347322679]\n",
      "Stacionarna distribucija za cijelu mrežu: \n",
      "[5.047182927133768e-06, 0.00015294477396513156, 0.0007247231638671269, 0.002659356008836402, 0.00726758236450052, 0.015543522752313998, 0.027179784616807555, 0.04333072973850945, 0.06137477404779912, 0.07757322412069956, 0.08906720973433327, 0.09507477137288031, 0.09622410530277528, 0.09119162516756146, 0.08349811715394119, 0.07252051723406402, 0.06084910965756581, 0.04935287124584587, 0.03899862199762527, 0.02919024435859951, 0.02111849045446243, 0.015141956754808719, 0.009564932566637645, 0.005709966942748558, 0.0031648611949757644, 0.0018163408776376206, 0.0009607891203749793, 0.00041299114106477984, 0.00023349890189065605, 7.862754221980595e-05]\n",
      "Vjerojatnost gubitka posla: \n",
      "0.07386352262946133\n"
     ]
    }
   ],
   "source": [
    "queue_network = QueueNetwork()\n",
    "\n",
    "queue1 = queue_network.create_queue(\n",
    "    generator_function=exponential(scale=1),\n",
    "    consumer_function=exponential(scale=1),\n",
    "    number_of_processors=3,\n",
    "    buffer_size=5\n",
    ")\n",
    "\n",
    "queue2 = queue_network.create_queue(\n",
    "    generator_function=exponential(scale=1),\n",
    "    consumer_function=exponential(scale=1),\n",
    "    number_of_processors=3,\n",
    "    buffer_size=5\n",
    ")\n",
    "\n",
    "queue3 = queue_network.create_queue(\n",
    "    generator_function=None,\n",
    "    consumer_function=exponential(scale=0.5),\n",
    "    number_of_processors=2,\n",
    "    buffer_size=3\n",
    ")\n",
    "\n",
    "queue4 = queue_network.create_queue(\n",
    "    generator_function=None,\n",
    "    consumer_function=exponential(scale=0.5),\n",
    "    number_of_processors=2,\n",
    "    buffer_size=3\n",
    ")\n",
    "\n",
    "queue5 = queue_network.create_queue(\n",
    "    generator_function=None,\n",
    "    consumer_function=exponential(scale=3),\n",
    "    number_of_processors=5,\n",
    "    buffer_size=8\n",
    ")\n",
    "\n",
    "queue6 = queue_network.create_queue(\n",
    "    generator_function=None,\n",
    "    consumer_function=exponential(scale=3),\n",
    "    number_of_processors=5,\n",
    "    buffer_size=8\n",
    ")\n",
    "\n",
    "queue7 = queue_network.create_queue(\n",
    "    generator_function=None,\n",
    "    consumer_function=exponential(scale=0.2),\n",
    "    number_of_processors=1,\n",
    "    buffer_size=2\n",
    ")\n",
    "\n",
    "queue_network.set_transition(\n",
    "    queue=queue1,\n",
    "    transition={\n",
    "        -1: 0,\n",
    "        0: 0,\n",
    "        1: 0,\n",
    "        2: 0.5,\n",
    "        3: 0.5,\n",
    "        4: 0,\n",
    "        5: 0,\n",
    "        6: 0\n",
    "    }\n",
    ")\n",
    "\n",
    "queue_network.set_transition(\n",
    "    queue=queue2,\n",
    "    transition={\n",
    "        -1: 0,\n",
    "        0: 0,\n",
    "        1: 0,\n",
    "        2: 0.5,\n",
    "        3: 0.5,\n",
    "        4: 0,\n",
    "        5: 0,\n",
    "        6: 0\n",
    "    }\n",
    ")\n",
    "\n",
    "queue_network.set_transition(\n",
    "    queue=queue3,\n",
    "    transition={\n",
    "        -1: 0.3,\n",
    "        0: 0,\n",
    "        1: 0,\n",
    "        2: 0,\n",
    "        3: 0.2,\n",
    "        4: 0.3,\n",
    "        5: 0.2,\n",
    "        6: 0\n",
    "    }\n",
    ")\n",
    "\n",
    "queue_network.set_transition(\n",
    "    queue=queue4,\n",
    "    transition={\n",
    "        -1: 0.3,\n",
    "        0: 0,\n",
    "        1: 0,\n",
    "        2: 0,\n",
    "        3: 0.2,\n",
    "        4: 0.2,\n",
    "        5: 0.3,\n",
    "        6: 0\n",
    "    }\n",
    ")\n",
    "\n",
    "queue_network.set_transition(\n",
    "    queue=queue5,\n",
    "    transition={\n",
    "        -1: 0,\n",
    "        0: 0,\n",
    "        1: 0,\n",
    "        2: 0.1,\n",
    "        3: 0.1,\n",
    "        4: 0,\n",
    "        5: 0.1,\n",
    "        6: 0.7\n",
    "    }\n",
    ")\n",
    "\n",
    "queue_network.set_transition(\n",
    "    queue=queue6,\n",
    "    transition={\n",
    "        -1: 0,\n",
    "        0: 0,\n",
    "        1: 0,\n",
    "        2: 0.1,\n",
    "        3: 0.1,\n",
    "        4: 0.1,\n",
    "        5: 0,\n",
    "        6: 0.7\n",
    "    }\n",
    ")\n",
    "\n",
    "queue_network.set_transition(\n",
    "    queue=queue7,\n",
    "    transition={\n",
    "        -1: 0.4,\n",
    "        0: 0,\n",
    "        1: 0,\n",
    "        2: 0,\n",
    "        3: 0,\n",
    "        4: 0,\n",
    "        5: 0.2,\n",
    "        6: 0.4\n",
    "    }\n",
    ")\n",
    "\n",
    "end_time = 100000\n",
    "queue_network.simulate(end_time)\n",
    "\n",
    "print(f'Stacionarna distribucija za Q1: \\n{[queue_network.logger.calculate_stationary_distribution(0, end_time, i) for i in range(9)]}')\n",
    "print(f'Stacionarna distribucija za Q2: \\n{[queue_network.logger.calculate_stationary_distribution(1, end_time, i) for i in range(9)]}')\n",
    "print(f'Stacionarna distribucija za Q3: \\n{[queue_network.logger.calculate_stationary_distribution(2, end_time, i) for i in range(6)]}')\n",
    "print(f'Stacionarna distribucija za Q4: \\n{[queue_network.logger.calculate_stationary_distribution(3, end_time, i) for i in range(6)]}')\n",
    "print(f'Stacionarna distribucija za Q5: \\n{[queue_network.logger.calculate_stationary_distribution(4, end_time, i) for i in range(14)]}')\n",
    "print(f'Stacionarna distribucija za Q6: \\n{[queue_network.logger.calculate_stationary_distribution(5, end_time, i) for i in range(14)]}')\n",
    "print(f'Stacionarna distribucija za Q7: \\n{[queue_network.logger.calculate_stationary_distribution(6, end_time, i) for i in range(4)]}')\n",
    "print(f'Stacionarna distribucija za cijelu mrežu: \\n{[queue_network.logger.calculate_stationary_distribution_global(end_time, i) for i in range(30)]}')\n",
    "\n",
    "print(f'Vjerojatnost gubitka posla: \\n{queue_network.logger.calculate_probability_of_loosing_a_job_global()}')"
   ],
   "metadata": {
    "collapsed": false,
    "ExecuteTime": {
     "end_time": "2024-01-06T17:27:52.186145357Z",
     "start_time": "2024-01-06T17:26:43.881261803Z"
    }
   },
   "id": "502558b2d5737e48",
   "execution_count": 7
  }
 ],
 "metadata": {
  "kernelspec": {
   "display_name": "Python 3",
   "language": "python",
   "name": "python3"
  },
  "language_info": {
   "codemirror_mode": {
    "name": "ipython",
    "version": 2
   },
   "file_extension": ".py",
   "mimetype": "text/x-python",
   "name": "python",
   "nbconvert_exporter": "python",
   "pygments_lexer": "ipython2",
   "version": "2.7.6"
  }
 },
 "nbformat": 4,
 "nbformat_minor": 5
}
